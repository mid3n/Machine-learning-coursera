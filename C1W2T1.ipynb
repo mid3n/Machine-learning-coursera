{
 "cells": [
  {
   "cell_type": "code",
   "execution_count": 1,
   "metadata": {
    "collapsed": true
   },
   "outputs": [],
   "source": [
    "import re\n",
    "with open(\"sentences.txt\") as file:\n",
    "    array = [row.strip() for row in file]\n",
    "    array = [row.lower() for row in array]\n",
    "    array = [re.split('[^a-z]', row) for row in array]  \n",
    "    array = [filter(None, row) for row in array]\n"
   ]
  },
  {
   "cell_type": "code",
   "execution_count": 2,
   "metadata": {
    "collapsed": true
   },
   "outputs": [],
   "source": [
    "n = 0\n",
    "wordDict = dict()\n",
    "for row in array:\n",
    "    for word in row:\n",
    "        if word not in wordDict.values():\n",
    "            n += 1\n",
    "            wordDict[n]=word\n",
    "        else:\n",
    "            continue"
   ]
  },
  {
   "cell_type": "code",
   "execution_count": 3,
   "metadata": {
    "collapsed": true
   },
   "outputs": [],
   "source": [
    "import numpy as np\n",
    "matrix = np.ones((22, 254))\n",
    "i = -1\n",
    "for row in array:\n",
    "    i += 1\n",
    "    for k, v in wordDict.iteritems():\n",
    "        matrix[i][k-1] = row.count(v)"
   ]
  },
  {
   "cell_type": "code",
   "execution_count": 4,
   "metadata": {},
   "outputs": [
    {
     "data": {
      "text/plain": [
       "array([[ 1.,  1.,  1., ...,  0.,  0.,  0.],\n",
       "       [ 0.,  0.,  1., ...,  0.,  0.,  0.],\n",
       "       [ 0.,  0.,  2., ...,  0.,  0.,  0.],\n",
       "       ..., \n",
       "       [ 0.,  0.,  0., ...,  0.,  0.,  0.],\n",
       "       [ 1.,  0.,  1., ...,  0.,  0.,  0.],\n",
       "       [ 0.,  0.,  1., ...,  1.,  1.,  1.]])"
      ]
     },
     "execution_count": 4,
     "metadata": {},
     "output_type": "execute_result"
    }
   ],
   "source": [
    "matrix"
   ]
  },
  {
   "cell_type": "code",
   "execution_count": 5,
   "metadata": {
    "collapsed": true
   },
   "outputs": [],
   "source": [
    "import numpy as np\n",
    "import scipy.spatial.distance as ds\n",
    "\n",
    "a = []\n",
    "\n",
    "for row in matrix:\n",
    "    a.append(ds.cosine(matrix[0], row))\n",
    "    "
   ]
  },
  {
   "cell_type": "code",
   "execution_count": 6,
   "metadata": {},
   "outputs": [
    {
     "data": {
      "text/plain": [
       "[0.0,\n",
       " 0.95275444087384664,\n",
       " 0.86447381456421235,\n",
       " 0.89517151632780823,\n",
       " 0.77708871496985887,\n",
       " 0.94023856953328033,\n",
       " 0.7327387580875756,\n",
       " 0.92587506833388988,\n",
       " 0.88427248752843102,\n",
       " 0.90550888174769317,\n",
       " 0.83281653622739416,\n",
       " 0.88047713906656067,\n",
       " 0.83964325485254543,\n",
       " 0.87035925528956715,\n",
       " 0.87401184233025764,\n",
       " 0.94427217874246472,\n",
       " 0.84063618542208085,\n",
       " 0.95664450152379399,\n",
       " 0.94427217874246472,\n",
       " 0.88854435748492944,\n",
       " 0.84275727449171223,\n",
       " 0.82503644694405864]"
      ]
     },
     "execution_count": 6,
     "metadata": {},
     "output_type": "execute_result"
    }
   ],
   "source": [
    "a"
   ]
  },
  {
   "cell_type": "code",
   "execution_count": null,
   "metadata": {
    "collapsed": true
   },
   "outputs": [],
   "source": [
    "6 4"
   ]
  }
 ],
 "metadata": {
  "kernelspec": {
   "display_name": "Python 2",
   "language": "python",
   "name": "python2"
  },
  "language_info": {
   "codemirror_mode": {
    "name": "ipython",
    "version": 2
   },
   "file_extension": ".py",
   "mimetype": "text/x-python",
   "name": "python",
   "nbconvert_exporter": "python",
   "pygments_lexer": "ipython2",
   "version": "2.7.13"
  }
 },
 "nbformat": 4,
 "nbformat_minor": 2
}
